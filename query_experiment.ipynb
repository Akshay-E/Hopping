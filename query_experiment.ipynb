{
 "cells": [
  {
   "cell_type": "markdown",
   "metadata": {},
   "source": [
    "This notebook is dedicated to learning the query system used by GAIA."
   ]
  },
  {
   "cell_type": "code",
   "execution_count": 2,
   "metadata": {},
   "outputs": [
    {
     "name": "stdout",
     "output_type": "stream",
     "text": [
      "Created TAP+ (v1.2.1) - Connection:\n",
      "\tHost: gea.esac.esa.int\n",
      "\tUse HTTPS: True\n",
      "\tPort: 443\n",
      "\tSSL Port: 443\n",
      "Created TAP+ (v1.2.1) - Connection:\n",
      "\tHost: geadata.esac.esa.int\n",
      "\tUse HTTPS: True\n",
      "\tPort: 443\n",
      "\tSSL Port: 443\n"
     ]
    }
   ],
   "source": [
    "import astropy.units as u\n",
    "from astropy.coordinates.sky_coordinate import SkyCoord\n",
    "from astropy.units import Quantity\n",
    "from astroquery.gaia import Gaia"
   ]
  },
  {
   "cell_type": "code",
   "execution_count": 6,
   "metadata": {},
   "outputs": [
    {
     "ename": "AttributeError",
     "evalue": "'SimbadClass' object has no attribute 'rm_votable_fields'",
     "output_type": "error",
     "traceback": [
      "\u001b[0;31m---------------------------------------------------------------------------\u001b[0m",
      "\u001b[0;31mAttributeError\u001b[0m                            Traceback (most recent call last)",
      "\u001b[0;32m<ipython-input-6-ec4e28f6de83>\u001b[0m in \u001b[0;36m<module>\u001b[0;34m\u001b[0m\n\u001b[1;32m      2\u001b[0m \u001b[0;32mfrom\u001b[0m \u001b[0mastroquery\u001b[0m\u001b[0;34m.\u001b[0m\u001b[0msimbad\u001b[0m \u001b[0;32mimport\u001b[0m \u001b[0mSimbad\u001b[0m\u001b[0;34m\u001b[0m\u001b[0;34m\u001b[0m\u001b[0m\n\u001b[1;32m      3\u001b[0m \u001b[0;34m\u001b[0m\u001b[0m\n\u001b[0;32m----> 4\u001b[0;31m \u001b[0mSimbad\u001b[0m\u001b[0;34m.\u001b[0m\u001b[0mrm_votable_fields\u001b[0m\u001b[0;34m(\u001b[0m\u001b[0;34m'coordinates'\u001b[0m\u001b[0;34m)\u001b[0m\u001b[0;34m\u001b[0m\u001b[0;34m\u001b[0m\u001b[0m\n\u001b[0m\u001b[1;32m      5\u001b[0m \u001b[0;34m\u001b[0m\u001b[0m\n\u001b[1;32m      6\u001b[0m \u001b[0mSimbad\u001b[0m\u001b[0;34m.\u001b[0m\u001b[0madd_votable_fields\u001b[0m\u001b[0;34m(\u001b[0m\u001b[0;34m'ra(d;A;ICRS;J2017.5;2000)'\u001b[0m\u001b[0;34m,\u001b[0m \u001b[0;34m'dec(d;D;ICRS;J2017.5;2000)'\u001b[0m\u001b[0;34m)\u001b[0m\u001b[0;34m\u001b[0m\u001b[0;34m\u001b[0m\u001b[0m\n",
      "\u001b[0;31mAttributeError\u001b[0m: 'SimbadClass' object has no attribute 'rm_votable_fields'"
     ]
    }
   ],
   "source": [
    "import numpy as np\n",
    "from astroquery.simbad import Simbad\n",
    "\n",
    "Simbad.rm_votable_fields('coordinates')\n",
    "\n",
    "Simbad.add_votable_fields('ra(d;A;ICRS;J2017.5;2000)', 'dec(d;D;ICRS;J2017.5;2000)')\n",
    "result_table = Simbad.query_object(\"M *\", wildcard = True)\n",
    "ra = result_table['RA_d_A_ICRS_J2017_5_2000']\n",
    "dec = result_table['DEC_d_D_ICRS_J2017_5_2000_4']\n",
    "\n",
    "ra = np.array([float(x) for x in ra])\n",
    "dec = np.array([float(x) for x in dec])\n",
    "\n",
    "ra = [-(360-x)*(np.pi/180) if x>180 else x*(np.pi/180) for x in ra]\n",
    "dec = [x*(np.pi/180) for x in dec]\n",
    "\n",
    "    "
   ]
  },
  {
   "cell_type": "code",
   "execution_count": null,
   "metadata": {},
   "outputs": [],
   "source": []
  },
  {
   "cell_type": "code",
   "execution_count": 3,
   "metadata": {},
   "outputs": [],
   "source": [
    "from astroquery.vizier import Vizier\n",
    "import numpy as np\n",
    "catalogue_list = Vizier.find_catalogs(\"Constellation\")\n",
    "Vizier.ROW_LIMIT = -1\n",
    "\n",
    "catalog = Vizier.get_catalogs(\"VI/49\")\n",
    "catalog[1].write(\"constellation_borders\",format=\"ascii\")\n",
    "ra = catalog[1]['RAJ2000']\n",
    "dec = catalog[1]['DEJ2000']\n",
    "ra = np.array([float(x) for x in ra])\n",
    "dec = np.array([float(x) for x in dec])\n",
    "\n",
    "\n"
   ]
  },
  {
   "cell_type": "code",
   "execution_count": null,
   "metadata": {},
   "outputs": [],
   "source": []
  }
 ],
 "metadata": {
  "kernelspec": {
   "display_name": "Python 3",
   "language": "python",
   "name": "python3"
  },
  "language_info": {
   "codemirror_mode": {
    "name": "ipython",
    "version": 3
   },
   "file_extension": ".py",
   "mimetype": "text/x-python",
   "name": "python",
   "nbconvert_exporter": "python",
   "pygments_lexer": "ipython3",
   "version": "3.7.7"
  }
 },
 "nbformat": 4,
 "nbformat_minor": 4
}
